{
  "nbformat": 4,
  "nbformat_minor": 0,
  "metadata": {
    "colab": {
      "name": "UFC Scraper.ipynb",
      "provenance": [],
      "mount_file_id": "1j-xnjGCQpWi-NaU9Nn7REYjCtvH0X7tr",
      "authorship_tag": "ABX9TyOAi5dfSuKvS2M7eZoaU2CC",
      "include_colab_link": true
    },
    "kernelspec": {
      "name": "python3",
      "display_name": "Python 3"
    },
    "language_info": {
      "name": "python"
    }
  },
  "cells": [
    {
      "cell_type": "markdown",
      "metadata": {
        "id": "view-in-github",
        "colab_type": "text"
      },
      "source": [
        "<a href=\"https://colab.research.google.com/github/Wyndegarde/UFC-Scraper/blob/main/UFC_Scraper.ipynb\" target=\"_parent\"><img src=\"https://colab.research.google.com/assets/colab-badge.svg\" alt=\"Open In Colab\"/></a>"
      ]
    },
    {
      "cell_type": "markdown",
      "metadata": {
        "id": "amU0XS2bojdH"
      },
      "source": [
        "# Notes: \n",
        "\n",
        "* Averages for each fighter are kept static despite date, so won't show different averages for each fight. I.e. if a fighter were to become more boxing centric we wouldnt pick this up as only their most recent averages are recorded. \n",
        "\n",
        "* So next step is to fix this, scrape all fight data for each fight, and use this to calculate their average for only fights which have occured. \n",
        "\n",
        "* Might be idea then to only keep fights in which both fighters have had two fights in ufc. either that or find a way to set the average for a fighter who is just entering the UFC. \n",
        "\n",
        "* documentation for datetime: https://docs.python.org/2/library/datetime.html#strftime-and-strptime-behavior\n",
        "\n",
        "\n",
        "* Tutorial here: https://www.dataquest.io/blog/python-datetime-tutorial/ "
      ]
    },
    {
      "cell_type": "code",
      "metadata": {
        "id": "uVBEI0YlPFvK"
      },
      "source": [
        "#!pip3 install requests\n",
        "#!pip3 install beautifulsoup4\n",
        "import requests\n",
        "import pprint as pp\n",
        "from bs4 import BeautifulSoup\n",
        "import pandas as pd\n",
        "import numpy as np\n",
        "import matplotlib.pyplot as plt\n",
        "import seaborn as sns\n",
        "import re\n",
        "from dateutil.relativedelta import relativedelta\n",
        "\n",
        "from datetime import datetime, date\n",
        "import math\n",
        "import statistics"
      ],
      "execution_count": null,
      "outputs": []
    },
    {
      "cell_type": "markdown",
      "metadata": {
        "id": "g1rIHCgwpmGo"
      },
      "source": [
        "## Links to all events and functions"
      ]
    },
    {
      "cell_type": "code",
      "metadata": {
        "id": "3L8qrZhZxxYG"
      },
      "source": [
        "def parse_webpage(link):\n",
        "  get = requests.get(link)\n",
        "  soup = BeautifulSoup(get.content, 'lxml')\n",
        "  return(soup)"
      ],
      "execution_count": null,
      "outputs": []
    },
    {
      "cell_type": "code",
      "metadata": {
        "id": "uniVoBB0m31I"
      },
      "source": [
        "def strip_ufc_text(text):\n",
        "  text = text.strip().replace('\\n','').replace(\"    \",'')\n",
        "  return(text)"
      ],
      "execution_count": null,
      "outputs": []
    },
    {
      "cell_type": "code",
      "metadata": {
        "id": "dVlUPJ26H6eH"
      },
      "source": [
        "all_links = [] # List to store all URLs \n",
        "ufc_URL = 'http://ufcstats.com/statistics/events/completed' # Link to UFC stats page with all events \n",
        "sequence = list(range(1,11)) # Updating this to only do first 10 pages, as this is 6 years worth of fights, anything beyond that probably won't give much info. \n",
        "                             # Can just change second value in range argument if you want more. Or alternatively go to the webpage which has all cards on one page. Less flexibility this way tho. \n",
        "\n",
        "                             # There are 22 pages, think there may be a better way to do this, but for now will do. \n",
        "                             # Idea: read in the page, find the section with page numbers, save 1 and then the final page text, save each as variable and use those for range. \n",
        "                             # More work than necessary tho, but idea for future. \n",
        "\n",
        "for i in sequence: \n",
        "  url = requests.get(ufc_URL, params={'page':i}) # Gets the page, 1 through 22.\n",
        "  soup = BeautifulSoup(url.content, 'lxml') # Parses the webpage \n",
        "\n",
        "  for link in soup.find_all('a',class_=\"b-link b-link_style_black\", href = True): # For each link in each page, go through them\n",
        "    event = link['href'] # assigns each link to 'event'\n",
        "    all_links.append(event) # appends this link to main list. \n",
        "\n",
        "    # print(f'added {link.text}') # Used to show which events have been added to the list. \n",
        "\n",
        "    \n",
        "  print(f'Page {i} complete') # Just used as indicator to show page has been processed. "
      ],
      "execution_count": null,
      "outputs": []
    },
    {
      "cell_type": "code",
      "metadata": {
        "id": "LR3I92qXdiNj"
      },
      "source": [
        "# from requests.exceptions import HTTPError # This block here will raise errors if something wrong occurs. see: https://realpython.com/python-requests/\n",
        "\n",
        "# # 200's = success, 300's = redirects, 400's = client errors and 500's = server errors. \n",
        "\n",
        "# for url in all_links:\n",
        "#     try:\n",
        "#         response = requests.get(url)\n",
        "\n",
        "#         # If the response was successful, no Exception will be raised\n",
        "#         response.raise_for_status()\n",
        "#     except HTTPError as http_err:\n",
        "#         print(f'HTTP error occurred: {http_err}')  # Python 3.6\n",
        "#     except Exception as err:\n",
        "#         print(f'Other error occurred: {err}')  # Python 3.6\n",
        "#     else:\n",
        "#         # print('Success!')\n",
        "#         continue             \n",
        "# #         # No errors when going through all the event links. But the code takes a good while to run through all links. 5 minute, 46 second runtime. 549 links. "
      ],
      "execution_count": null,
      "outputs": []
    },
    {
      "cell_type": "markdown",
      "metadata": {
        "id": "WDy6B0Pn4ky6"
      },
      "source": [
        "## Scraping fight info from all events\n"
      ]
    },
    {
      "cell_type": "code",
      "metadata": {
        "id": "DShrsYyKDtMx"
      },
      "source": [
        "# Notes: Gathered the names through scraping, then added red/blue prefixes. \n",
        "#        Find out if there is a better way to do this. \n",
        "\n",
        "event_stats = pd.DataFrame(columns = ['date','location',\n",
        "               'red_fighter', 'blue_fighter', 'winner',\n",
        "               'red_knockdowns','blue_knockdowns',\n",
        "               'red_sig_strike', 'blue_sig_strike',\n",
        "               'red_sig_strike_percent', 'blue_sig_strike_percent',\n",
        "               'red_total_strikes', 'blue_total_strikes',\n",
        "               'red_takedowns', 'blue_takedowns',\n",
        "               'red_takedown_percent', 'blue_takedown_percent',\n",
        "               'red_submission_attempts', 'blue_submission_attempts',\n",
        "               'red_reversals', 'blue_reversals',\n",
        "               'red_control_time', 'blue_control_time'])\n",
        "\n",
        "fighter_profile_df = pd.DataFrame(columns =\n",
        "                                  ['red_Record','red_Height','red_Weight','red_Reach','red_STANCE','red_DOB','red_SLpM','red_Str_Acc','red_SApM','red_Str_Def','red_TD_Avg','red_TD_Acc','red_TD_Def','red_Sub_Avg',\n",
        "                                   'blue_Record','blue_Height','blue_Weight','blue_Reach','blue_STANCE','blue_DOB','blue_SLpM','blue_Str_Acc','blue_SApM','blue_Str_Def','blue_TD_Avg','blue_TD_Acc','blue_TD_Def','blue_Sub_Avg'])"
      ],
      "execution_count": null,
      "outputs": []
    },
    {
      "cell_type": "code",
      "metadata": {
        "id": "sj1s8DnHqhAY"
      },
      "source": [
        "for event in all_links:           # Goes through each event that was saved. \n",
        "  ufc_card = parse_webpage(event) # Parses each event. \n",
        "\n",
        "\n",
        "  event_info = ufc_card.find(class_ = 'b-list__box-list').text.replace('\\n','').split('      ') # Gets the Date and Location. \n",
        "  date = event_info[3]\n",
        "  location = event_info[-1]\n",
        "\n",
        "  for fights in ufc_card.find_all(class_ ='b-flag b-flag_style_green'): # Goes the statistics page of each fight for each event. \n",
        "    red_vs_blue = parse_webpage(fights['href']) # Parses each webpage. \n",
        "    fighter_links = []\n",
        "    for link in red_vs_blue.find_all('a',class_ = 'b-link b-link_style_black',limit = 2): # Gets the links to each fighter's profile page and stores them in a list. \n",
        "        fighter_links.append(link.get('href'))\n",
        "\n",
        "\n",
        "    all_info = []\n",
        "    for link in fighter_links: # We get the links for both fighters in each fight and go through both. \n",
        "      profile = parse_webpage(link)\n",
        "      record = profile.find(class_ = 'b-content__title-record') # First find their record. \n",
        "      all_info.append(strip_ufc_text(record.text).split(':'))   # Strip it down and add it to the list\n",
        "\n",
        "      career_info = profile.find_all(class_=\"b-list__box-list-item b-list__box-list-item_type_block\") # Next we go through all of the summary stats for each fighter. \n",
        "      for each in career_info:\n",
        "        output = strip_ufc_text(each.text).split(':') # Strip the text containing the info and then split it by colons, to have a list where each entry is a 2 element list containing the name of the stat and the stat itself. \n",
        "        all_info.append(output) # Add the info for each fighter to the list. This adds all red fighter stats, then loops through again to add blue fighter stats to end of that. \n",
        "\n",
        "\n",
        "    # Once both fighter statistics from a single fight have been extracted and stored in a list, we need to process that list and add it to the dataframe as one row. \n",
        "    all_info.remove(all_info[10]) # This is an empty entry due to website formatting. \n",
        "    all_info.remove(all_info[-5]) # This is an empty entry due to website formatting. \n",
        "    #print(all_info)\n",
        "    information = [i[1] for i in all_info] # This here creates a list containing only the actual statistics (effectively discarding the names)\n",
        "    information_series = pd.Series(information,index = fighter_profile_df.columns) # converts this list to a series so it can be added to the dataframe. \n",
        "    fighter_profile_df = fighter_profile_df.append(information_series, ignore_index=True) # Finally add the fighter stats to the dataframe. \n",
        "\n",
        "    ######## NOTE ON THIS BLOCK: IT DOESNT ACCOUNT FOR DRAWS, SMALL SAMPLE SIZE, BUT IM SURE CURRENTLY IT TREATS A DRAW AS A BLUE WIN WHICH IS NOT GOOD. ###############################\n",
        "    \n",
        "    # This statement here finds the part of the webpage which states the winner of the fight. Win and loss has a different class, \n",
        "    # so if the class of the first box (i.e. red fighter) is not \"style_green\" then they lost and the entry for winner becomes 0 (i.e. blue fighter won)\n",
        "    # Takes advantage of the fact that if .find doesnt find something, then it returns a NoneType Object\n",
        "    if red_vs_blue.find(class_ = 'b-fight-details__person').find(class_ = 'b-fight-details__person-status b-fight-details__person-status_style_green') == None: \n",
        "      win = 0\n",
        "    else: \n",
        "      win = 1 # This sets it so if the red corner wins we get 1 and if the blue corner wins we get 0. \n",
        "\n",
        "    table = []\n",
        "    for link in red_vs_blue.find_all(class_ = 'b-fight-details__table-text', limit = 20): # Goes through the table containing the key information from each fight and stores the stats in a list. \n",
        "        entry = strip_ufc_text(link.get_text())\n",
        "        table.append(entry)\n",
        "\n",
        "    # This code here adds the date, location and winner information to the list and then adds that row to the master dataframe. \n",
        "    table.insert(0,date)\n",
        "    table.insert(1,location)\n",
        "    table.insert(4,win)\n",
        "    stats = pd.Series(table, index = column_names)\n",
        "    event_stats = event_stats.append(stats,ignore_index=True)"
      ],
      "execution_count": null,
      "outputs": []
    },
    {
      "cell_type": "code",
      "metadata": {
        "id": "4JiFFfxmMwu_"
      },
      "source": [
        "UFC_DataFrame = pd.concat([event_stats,fighter_profile_df],axis = 1)"
      ],
      "execution_count": null,
      "outputs": []
    },
    {
      "cell_type": "code",
      "metadata": {
        "id": "9zoCMXZlXjO0"
      },
      "source": [
        "UFC_DataFrame.head()"
      ],
      "execution_count": null,
      "outputs": []
    },
    {
      "cell_type": "code",
      "metadata": {
        "id": "1ZAt8fVTNEJh"
      },
      "source": [
        "UFC_DataFrame.to_csv('ufc.csv',index = False)"
      ],
      "execution_count": null,
      "outputs": []
    },
    {
      "cell_type": "markdown",
      "metadata": {
        "id": "dlYkQQCxS_or"
      },
      "source": [
        "# Working with the scraped Data"
      ]
    },
    {
      "cell_type": "code",
      "metadata": {
        "id": "JgN73zgmG0lc"
      },
      "source": [
        "UFC_DataFrame = pd.read_csv('drive/MyDrive/ufc.csv') # Added in after scraping so I don't need to scrape every time. "
      ],
      "execution_count": null,
      "outputs": []
    },
    {
      "cell_type": "code",
      "metadata": {
        "id": "RUvKwW2AP95E"
      },
      "source": [
        "def get_fighter(df,fighter): \n",
        "  df1 = df[df['red_fighter'] == fighter ] \n",
        "  df2 = df[df['blue_fighter'] == fighter ]\n",
        "  df3 = pd.concat([df1,df2],axis = 0)\n",
        "  return(df3)\n",
        "\n",
        "\n",
        "# Taken from Lewis' code\n",
        "\n",
        "#Function for changing height column to inches and then to cm \n",
        "def height_to_cm(height):\n",
        "    height =height.split(\"' \")\n",
        "    feet = float(height[0])\n",
        "    inch = float(height[1].replace(\"\\\"\",\"\"))\n",
        "    feet_inch = (12*feet) + inch\n",
        "    return(feet_inch*2.54)\n",
        "\n",
        "\n",
        "#Convert both reach columns into cm\n",
        "def reach_cm(reach):\n",
        "    if reach == '--': # bit of a messy change, but currently I replace all of these strings with NaN, then work out the newly mean of the column excluding these values and finally replace the NaN with the mean. \n",
        "        return(np.nan)\n",
        "    else: \n",
        "        reach = float(reach.replace('\"',''))\n",
        "        return(reach*2.54) # might add math.floor to round these down and get integer values for height in cm instead of including decimals. \n"
      ],
      "execution_count": null,
      "outputs": []
    },
    {
      "cell_type": "code",
      "metadata": {
        "id": "KVlp8QVuHB6y"
      },
      "source": [
        "UFC = UFC_DataFrame.copy()\n",
        "\n",
        "UFC['date'] = UFC['date'].apply(lambda x: datetime.strptime(x,'%B %d, %Y')) \n",
        "\n",
        "for column in UFC.columns: \n",
        "  if 'DOB' in column:\n",
        "    UFC[column] = UFC[column].apply(lambda x: datetime.strptime(x,'%b %d, %Y')) \n",
        "\n",
        "UFC = UFC.replace('---','0')\n",
        "UFC['blue_STANCE'] = UFC['blue_STANCE'].replace(np.nan,'Orthodox') # Choosing the replace with Orthodox because it is the most common stance. \n",
        "UFC['red_STANCE'] = UFC['blue_STANCE'].replace(np.nan,'Orthodox') # see above\n",
        "#UFC = UFC.sort_values(by = 'date', ascending = False) # This is not totally necessary, but handy for if anything gets jumbled up later on when appending. \n",
        "\n",
        "UFC_subset = UFC.copy()\n",
        "UFC_subset = UFC_subset[['date', 'location', 'red_fighter', 'blue_fighter', 'winner','red_sig_strike',\n",
        "                                 'blue_sig_strike', 'red_sig_strike_percent', 'blue_sig_strike_percent',\n",
        "                                 'red_total_strikes', 'blue_total_strikes', 'red_takedowns',\n",
        "                                 'blue_takedowns', 'red_takedown_percent', 'blue_takedown_percent',\n",
        "                                 'red_submission_attempts', 'blue_submission_attempts', 'red_Record',\n",
        "                                 'red_Height', 'red_Weight', 'red_Reach', 'red_STANCE', 'red_DOB', 'blue_Record', 'blue_Height',\n",
        "                                 'blue_Weight', 'blue_Reach', 'blue_STANCE', 'blue_DOB']]\n",
        "\n",
        "\n",
        "# This block here pulls all the percentage columns, then removes the % from each and converts them to decimal. \n",
        "percent_names = []\n",
        "of_columns = []\n",
        "height_columns = []\n",
        "reach_columns = []\n",
        "\n",
        "for name in UFC_subset.columns: \n",
        "\n",
        "  if 'percent' in name:\n",
        "    percent_names.append(name)\n",
        "\n",
        "  elif UFC_subset[name].dtype == object and sum(UFC_subset[name].apply(lambda x: 'of' in str(x))) > 0 and name != 'red_fighter' and name != 'blue_fighter' : # This is definitely not the best way to do this, find better way.\n",
        "    of_columns.append(name) # This block gets all the columns with ' x of y' in them and stores them in a list for processing.\n",
        "\n",
        "  elif 'Height' in name: # This block converts the height and reach columns from inches to cm. \n",
        "    height_columns.append(name)\n",
        "    UFC_subset[name] = UFC_subset[name].apply(lambda x:height_to_cm(x))\n",
        "\n",
        "  elif 'Reach' in name: \n",
        "    reach_columns.append(name)\n",
        "    UFC_subset[name] = UFC_subset[name].apply(lambda x:reach_cm(x))\n",
        "\n",
        "\n",
        "for column in percent_names: \n",
        "  UFC_subset[column] = UFC_subset[column].str.strip('%').astype('int')/100\n",
        "\n",
        "\n",
        "for column in of_columns: # This block converts all the columns from strings containing \"x of y\" to two columns corresponding to attempted and landed. \n",
        "  column_as_list = UFC_subset[column].tolist()\n",
        "  splitting_column = []\n",
        "\n",
        "  for each in column_as_list: \n",
        "    splitting_column.append(each.split(' of '))\n",
        "  \n",
        "  attempted = [float(i[1]) for i in splitting_column] \n",
        "  landed = [float(i[0]) for i in splitting_column] \n",
        "\n",
        "  attempted_suffix = column + '_attempted'\n",
        "  landed_suffix = column + '_landed'\n",
        "  percent_suffix = column + '_percent'\n",
        "\n",
        "  UFC_subset[attempted_suffix] = attempted \n",
        "  UFC_subset[landed_suffix] = landed\n",
        "  UFC_subset[percent_suffix] =  UFC_subset[landed_suffix] / UFC_subset[attempted_suffix] \n",
        "  UFC_subset[percent_suffix] = UFC_subset[percent_suffix].fillna(0)\n",
        "\n",
        "  UFC_subset = UFC_subset.drop(columns = column)\n",
        "\n",
        "# IMPROVEMENT: change this to calculate the mean reach for each weight class, that way we will get a mean reach that is proportional and more accurate (can't have a 5\" fighter with the reach of someone 6\")\n",
        "red_mean_reach = statistics.mean(UFC_subset['red_Reach'][~np.isnan(UFC_subset['red_Reach'])])\n",
        "blue_mean_reach = statistics.mean(UFC_subset['blue_Reach'][~np.isnan(UFC_subset['blue_Reach'])])\n",
        "\n",
        "UFC_subset['red_Reach'] = UFC_subset['red_Reach'].fillna(red_mean_reach)\n",
        "UFC_subset['blue_Reach'] = UFC_subset['blue_Reach'].fillna(blue_mean_reach)\n",
        "# This is is a little convoluted compared to just hard coding the actual column names in, but wanted to avoid using the names to avoid typos. although different errors could occur here technically. \n",
        "\n",
        "UFC_subset['Height_diff'] = UFC_subset[height_columns[0]] - UFC_subset[height_columns[1]] # Red height minus Blue height. So positve value suggests red taller, negative implies red shorter.\n",
        "UFC_subset['Reach_diff'] = UFC_subset[reach_columns[0]] - UFC_subset[reach_columns[1]]  # Same as for height. \n",
        "\n",
        "UFC_subset['red_age'] = UFC_subset['date'].sub(UFC_subset['red_DOB']).dt.days.div(365.25).round(0).astype(int)\n",
        "UFC_subset['blue_age'] = UFC_subset['date'].sub(UFC_subset['blue_DOB']).dt.days.div(365.25).round(0).astype(int)"
      ],
      "execution_count": null,
      "outputs": []
    },
    {
      "cell_type": "code",
      "metadata": {
        "id": "2fmcSs4wQbwy",
        "colab": {
          "base_uri": "https://localhost:8080/",
          "height": 333
        },
        "outputId": "bb9b26fc-0148-421d-d5d6-0f7342eb2b20"
      },
      "source": [
        "plt.hist(UFC_subset['red_Reach'])"
      ],
      "execution_count": null,
      "outputs": [
        {
          "output_type": "execute_result",
          "data": {
            "text/plain": [
              "(array([ 38., 125., 387., 332., 529., 702., 397., 252.,  92.,  30.]),\n",
              " array([152.4  , 158.496, 164.592, 170.688, 176.784, 182.88 , 188.976,\n",
              "        195.072, 201.168, 207.264, 213.36 ]),\n",
              " <a list of 10 Patch objects>)"
            ]
          },
          "metadata": {
            "tags": []
          },
          "execution_count": 5
        },
        {
          "output_type": "display_data",
          "data": {
            "image/png": "[encoded data removed]",
            "text/plain": [
              "<Figure size 432x288 with 1 Axes>"
            ]
          },
          "metadata": {
            "tags": [],
            "needs_background": "light"
          }
        }
      ]
    },
    {
      "cell_type": "code",
      "metadata": {
        "id": "Y6DY_C1vQp52"
      },
      "source": [
        "plt.hist(UFC_subset['blue_Reach'])"
      ],
      "execution_count": null,
      "outputs": []
    },
    {
      "cell_type": "code",
      "metadata": {
        "id": "R4ivGbfScNZG",
        "colab": {
          "base_uri": "https://localhost:8080/"
        },
        "outputId": "de74871f-7841-4fce-e958-f9541406522b"
      },
      "source": [
        "UFC_subset.isna().sum()"
      ],
      "execution_count": null,
      "outputs": [
        {
          "output_type": "execute_result",
          "data": {
            "text/plain": [
              "date                            0\n",
              "location                        0\n",
              "red_fighter                     0\n",
              "blue_fighter                    0\n",
              "winner                          0\n",
              "red_sig_strike_percent          0\n",
              "blue_sig_strike_percent         0\n",
              "red_takedown_percent            0\n",
              "blue_takedown_percent           0\n",
              "red_submission_attempts         0\n",
              "blue_submission_attempts        0\n",
              "red_Record                      0\n",
              "red_Height                      0\n",
              "red_Weight                      0\n",
              "red_Reach                       0\n",
              "red_STANCE                      0\n",
              "red_DOB                         0\n",
              "blue_Record                     0\n",
              "blue_Height                     0\n",
              "blue_Weight                     0\n",
              "blue_Reach                      0\n",
              "blue_STANCE                     0\n",
              "blue_DOB                        0\n",
              "red_sig_strike_attempted        0\n",
              "red_sig_strike_landed           0\n",
              "blue_sig_strike_attempted       0\n",
              "blue_sig_strike_landed          0\n",
              "red_total_strikes_attempted     0\n",
              "red_total_strikes_landed        0\n",
              "red_total_strikes_percent       0\n",
              "blue_total_strikes_attempted    0\n",
              "blue_total_strikes_landed       0\n",
              "blue_total_strikes_percent      0\n",
              "red_takedowns_attempted         0\n",
              "red_takedowns_landed            0\n",
              "red_takedowns_percent           0\n",
              "blue_takedowns_attempted        0\n",
              "blue_takedowns_landed           0\n",
              "blue_takedowns_percent          0\n",
              "Height_diff                     0\n",
              "Reach_diff                      0\n",
              "red_age                         0\n",
              "blue_age                        0\n",
              "dtype: int64"
            ]
          },
          "metadata": {
            "tags": []
          },
          "execution_count": 6
        }
      ]
    },
    {
      "cell_type": "code",
      "metadata": {
        "colab": {
          "base_uri": "https://localhost:8080/",
          "height": 350
        },
        "id": "bigAIlDlhj6Y",
        "outputId": "24fc63fc-d598-4b1e-f7af-4b30631989a8"
      },
      "source": [
        "sns.countplot(UFC_subset['winner'])"
      ],
      "execution_count": null,
      "outputs": [
        {
          "output_type": "stream",
          "text": [
            "/usr/local/lib/python3.7/dist-packages/seaborn/_decorators.py:43: FutureWarning: Pass the following variable as a keyword arg: x. From version 0.12, the only valid positional argument will be `data`, and passing other arguments without an explicit keyword will result in an error or misinterpretation.\n",
            "  FutureWarning\n"
          ],
          "name": "stderr"
        },
        {
          "output_type": "execute_result",
          "data": {
            "text/plain": [
              "<matplotlib.axes._subplots.AxesSubplot at 0x7f4ee314f290>"
            ]
          },
          "metadata": {
            "tags": []
          },
          "execution_count": 7
        },
        {
          "output_type": "display_data",
          "data": {
            "image/png": "[encoded data removed]",
            "text/plain": [
              "<Figure size 432x288 with 1 Axes>"
            ]
          },
          "metadata": {
            "tags": [],
            "needs_background": "light"
          }
        }
      ]
    },
    {
      "cell_type": "code",
      "metadata": {
        "colab": {
          "base_uri": "https://localhost:8080/"
        },
        "id": "JfKeDqxVpR4C",
        "outputId": "076f3ae0-0140-4037-a52c-c029c2698dbd"
      },
      "source": [
        "UFC_subset.shape"
      ],
      "execution_count": null,
      "outputs": [
        {
          "output_type": "execute_result",
          "data": {
            "text/plain": [
              "(2884, 43)"
            ]
          },
          "metadata": {
            "tags": []
          },
          "execution_count": 97
        }
      ]
    },
    {
      "cell_type": "code",
      "metadata": {
        "colab": {
          "base_uri": "https://localhost:8080/"
        },
        "id": "PxSbRzVFpEj1",
        "outputId": "4ff9ec65-de52-4bc4-8093-86a1b1ec94e9"
      },
      "source": [
        "len(np.unique(UFC_subset['red_fighter'])), len(np.unique(UFC_subset['blue_fighter']))"
      ],
      "execution_count": null,
      "outputs": [
        {
          "output_type": "execute_result",
          "data": {
            "text/plain": [
              "(968, 1103)"
            ]
          },
          "metadata": {
            "tags": []
          },
          "execution_count": 9
        }
      ]
    },
    {
      "cell_type": "code",
      "metadata": {
        "id": "SMpqR1nvzrWw"
      },
      "source": [
        "number_of_fights_per_fighter = UFC_subset['red_fighter'].append(UFC_subset['blue_fighter']).value_counts()"
      ],
      "execution_count": null,
      "outputs": []
    },
    {
      "cell_type": "code",
      "metadata": {
        "colab": {
          "base_uri": "https://localhost:8080/"
        },
        "id": "-i7-Lq1I0S4S",
        "outputId": "aee5e6ea-1ece-4466-d883-08bb34c53e58"
      },
      "source": [
        "number_of_fights_per_fighter"
      ],
      "execution_count": null,
      "outputs": [
        {
          "output_type": "execute_result",
          "data": {
            "text/plain": [
              "Alex Oliveira        19\n",
              "Jim Miller           19\n",
              "Donald Cerrone       18\n",
              "Andrei Arlovski      18\n",
              "Thiago Santos        17\n",
              "                     ..\n",
              "Dakota Bush           1\n",
              "Keith Berish          1\n",
              "Guram Kutateladze     1\n",
              "Mike Jackson          1\n",
              "Wang Guan             1\n",
              "Length: 1255, dtype: int64"
            ]
          },
          "metadata": {
            "tags": []
          },
          "execution_count": 23
        }
      ]
    },
    {
      "cell_type": "code",
      "metadata": {
        "colab": {
          "base_uri": "https://localhost:8080/"
        },
        "id": "_0X2u5AD0CYj",
        "outputId": "bfe7ca0b-7c08-49ff-de57-9333aab6d905"
      },
      "source": [
        "number_of_fights_per_fighter[number_of_fights_per_fighter == 1]"
      ],
      "execution_count": null,
      "outputs": [
        {
          "output_type": "execute_result",
          "data": {
            "text/plain": [
              "Alex Gorgees           1\n",
              "Uros Medic             1\n",
              "Cody Durden            1\n",
              "Andrew Craig           1\n",
              "Andreas Michailidis    1\n",
              "                      ..\n",
              "Dakota Bush            1\n",
              "Keith Berish           1\n",
              "Guram Kutateladze      1\n",
              "Mike Jackson           1\n",
              "Wang Guan              1\n",
              "Length: 225, dtype: int64"
            ]
          },
          "metadata": {
            "tags": []
          },
          "execution_count": 21
        }
      ]
    },
    {
      "cell_type": "code",
      "metadata": {
        "colab": {
          "base_uri": "https://localhost:8080/"
        },
        "id": "RRfpbz28yyxC",
        "outputId": "d97a3f10-b5ff-4526-ab98-49868b3afeec"
      },
      "source": [
        "number_of_fights_per_fighter[number_of_fights_per_fighter != 1]"
      ],
      "execution_count": null,
      "outputs": [
        {
          "output_type": "execute_result",
          "data": {
            "text/plain": [
              "Alex Oliveira        19\n",
              "Jim Miller           19\n",
              "Donald Cerrone       18\n",
              "Andrei Arlovski      18\n",
              "Thiago Santos        17\n",
              "                     ..\n",
              "Jacob Malkoun         2\n",
              "Rafael Cavalcante     2\n",
              "Sean Woodson          2\n",
              "Jamall Emmers         2\n",
              "Austin Lingo          2\n",
              "Length: 1030, dtype: int64"
            ]
          },
          "metadata": {
            "tags": []
          },
          "execution_count": 24
        }
      ]
    },
    {
      "cell_type": "markdown",
      "metadata": {
        "id": "0eEmqK9gkU3I"
      },
      "source": [
        "# Creating averages for key stats"
      ]
    },
    {
      "cell_type": "code",
      "metadata": {
        "id": "dKtSM0WEjHlF"
      },
      "source": [
        "Holland = get_fighter(UFC_subset,'Kevin Holland') # Chose him cause he has fought mad number of opponents. \n",
        "Holland = Holland.sort_values(by = 'date', ascending = True)\n",
        "\n",
        "Holland_key_columns = Holland.copy()\n",
        "Holland_key_columns = Holland_key_columns[['date','red_fighter','blue_fighter','winner',\n",
        "                                          'red_sig_strike_percent', 'blue_sig_strike_percent',\n",
        "                                          'red_takedown_percent', 'blue_takedown_percent',\n",
        "                                          'red_submission_attempts', 'blue_submission_attempts', \n",
        "                                          'red_STANCE', 'blue_STANCE', 'red_total_strikes_percent',\n",
        "                                          'blue_total_strikes_percent', 'red_takedowns_percent',\n",
        "                                          'blue_takedowns_percent', 'Height_diff', 'Reach_diff', \n",
        "                                          'red_age','blue_age']]"
      ],
      "execution_count": null,
      "outputs": []
    },
    {
      "cell_type": "code",
      "metadata": {
        "colab": {
          "base_uri": "https://localhost:8080/",
          "height": 645
        },
        "id": "-IZjwZ4u1NYi",
        "outputId": "bdcbfd22-6d7a-422b-db35-716b2c985b34"
      },
      "source": [
        "Holland_key_columns"
      ],
      "execution_count": null,
      "outputs": [
        {
          "output_type": "execute_result",
          "data": {
            "text/html": [
              "<div>\n",
              "<style scoped>\n",
              "    .dataframe tbody tr th:only-of-type {\n",
              "        vertical-align: middle;\n",
              "    }\n",
              "\n",
              "    .dataframe tbody tr th {\n",
              "        vertical-align: top;\n",
              "    }\n",
              "\n",
              "    .dataframe thead th {\n",
              "        text-align: right;\n",
              "    }\n",
              "</style>\n",
              "<table border=\"1\" class=\"dataframe\">\n",
              "  <thead>\n",
              "    <tr style=\"text-align: right;\">\n",
              "      <th></th>\n",
              "      <th>date</th>\n",
              "      <th>red_fighter</th>\n",
              "      <th>blue_fighter</th>\n",
              "      <th>winner</th>\n",
              "      <th>red_sig_strike_percent</th>\n",
              "      <th>blue_sig_strike_percent</th>\n",
              "      <th>red_takedown_percent</th>\n",
              "      <th>blue_takedown_percent</th>\n",
              "      <th>red_submission_attempts</th>\n",
              "      <th>blue_submission_attempts</th>\n",
              "      <th>red_STANCE</th>\n",
              "      <th>blue_STANCE</th>\n",
              "      <th>red_total_strikes_percent</th>\n",
              "      <th>blue_total_strikes_percent</th>\n",
              "      <th>red_takedowns_percent</th>\n",
              "      <th>blue_takedowns_percent</th>\n",
              "      <th>Height_diff</th>\n",
              "      <th>Reach_diff</th>\n",
              "      <th>red_age</th>\n",
              "      <th>blue_age</th>\n",
              "    </tr>\n",
              "  </thead>\n",
              "  <tbody>\n",
              "    <tr>\n",
              "      <th>1297</th>\n",
              "      <td>2018-08-04</td>\n",
              "      <td>Thiago Santos</td>\n",
              "      <td>Kevin Holland</td>\n",
              "      <td>1</td>\n",
              "      <td>0.450980</td>\n",
              "      <td>0.563636</td>\n",
              "      <td>0.42</td>\n",
              "      <td>0.00</td>\n",
              "      <td>1</td>\n",
              "      <td>1</td>\n",
              "      <td>Orthodox</td>\n",
              "      <td>Orthodox</td>\n",
              "      <td>0.485030</td>\n",
              "      <td>0.736364</td>\n",
              "      <td>0.428571</td>\n",
              "      <td>0.000000</td>\n",
              "      <td>-2.54</td>\n",
              "      <td>-12.70</td>\n",
              "      <td>35</td>\n",
              "      <td>26</td>\n",
              "    </tr>\n",
              "    <tr>\n",
              "      <th>1181</th>\n",
              "      <td>2018-11-24</td>\n",
              "      <td>Kevin Holland</td>\n",
              "      <td>John Phillips</td>\n",
              "      <td>1</td>\n",
              "      <td>0.657754</td>\n",
              "      <td>0.331169</td>\n",
              "      <td>0.83</td>\n",
              "      <td>0.00</td>\n",
              "      <td>2</td>\n",
              "      <td>0</td>\n",
              "      <td>Southpaw</td>\n",
              "      <td>Southpaw</td>\n",
              "      <td>0.694915</td>\n",
              "      <td>0.339744</td>\n",
              "      <td>0.833333</td>\n",
              "      <td>0.000000</td>\n",
              "      <td>10.16</td>\n",
              "      <td>15.24</td>\n",
              "      <td>26</td>\n",
              "      <td>33</td>\n",
              "    </tr>\n",
              "    <tr>\n",
              "      <th>994</th>\n",
              "      <td>2019-03-30</td>\n",
              "      <td>Kevin Holland</td>\n",
              "      <td>Gerald Meerschaert</td>\n",
              "      <td>1</td>\n",
              "      <td>0.627907</td>\n",
              "      <td>0.769231</td>\n",
              "      <td>0.50</td>\n",
              "      <td>0.54</td>\n",
              "      <td>2</td>\n",
              "      <td>4</td>\n",
              "      <td>Southpaw</td>\n",
              "      <td>Southpaw</td>\n",
              "      <td>0.775510</td>\n",
              "      <td>0.785714</td>\n",
              "      <td>0.500000</td>\n",
              "      <td>0.545455</td>\n",
              "      <td>5.08</td>\n",
              "      <td>10.16</td>\n",
              "      <td>26</td>\n",
              "      <td>31</td>\n",
              "    </tr>\n",
              "    <tr>\n",
              "      <th>879</th>\n",
              "      <td>2019-06-22</td>\n",
              "      <td>Kevin Holland</td>\n",
              "      <td>Alessio Di Chirico</td>\n",
              "      <td>1</td>\n",
              "      <td>0.495726</td>\n",
              "      <td>0.607143</td>\n",
              "      <td>0.00</td>\n",
              "      <td>0.50</td>\n",
              "      <td>0</td>\n",
              "      <td>0</td>\n",
              "      <td>Orthodox</td>\n",
              "      <td>Orthodox</td>\n",
              "      <td>0.758893</td>\n",
              "      <td>0.639175</td>\n",
              "      <td>0.000000</td>\n",
              "      <td>0.500000</td>\n",
              "      <td>7.62</td>\n",
              "      <td>17.78</td>\n",
              "      <td>27</td>\n",
              "      <td>30</td>\n",
              "    </tr>\n",
              "    <tr>\n",
              "      <th>696</th>\n",
              "      <td>2019-10-18</td>\n",
              "      <td>Brendan Allen</td>\n",
              "      <td>Kevin Holland</td>\n",
              "      <td>1</td>\n",
              "      <td>0.454545</td>\n",
              "      <td>0.578947</td>\n",
              "      <td>0.66</td>\n",
              "      <td>1.00</td>\n",
              "      <td>4</td>\n",
              "      <td>1</td>\n",
              "      <td>Orthodox</td>\n",
              "      <td>Orthodox</td>\n",
              "      <td>0.560976</td>\n",
              "      <td>0.672727</td>\n",
              "      <td>0.666667</td>\n",
              "      <td>1.000000</td>\n",
              "      <td>-2.54</td>\n",
              "      <td>-15.24</td>\n",
              "      <td>24</td>\n",
              "      <td>27</td>\n",
              "    </tr>\n",
              "    <tr>\n",
              "      <th>484</th>\n",
              "      <td>2020-05-16</td>\n",
              "      <td>Anthony Hernandez</td>\n",
              "      <td>Kevin Holland</td>\n",
              "      <td>0</td>\n",
              "      <td>0.000000</td>\n",
              "      <td>0.777778</td>\n",
              "      <td>0.00</td>\n",
              "      <td>0.00</td>\n",
              "      <td>0</td>\n",
              "      <td>0</td>\n",
              "      <td>Orthodox</td>\n",
              "      <td>Orthodox</td>\n",
              "      <td>0.000000</td>\n",
              "      <td>0.777778</td>\n",
              "      <td>0.000000</td>\n",
              "      <td>0.000000</td>\n",
              "      <td>-7.62</td>\n",
              "      <td>-15.24</td>\n",
              "      <td>27</td>\n",
              "      <td>28</td>\n",
              "    </tr>\n",
              "    <tr>\n",
              "      <th>362</th>\n",
              "      <td>2020-08-08</td>\n",
              "      <td>Kevin Holland</td>\n",
              "      <td>Joaquin Buckley</td>\n",
              "      <td>1</td>\n",
              "      <td>0.589552</td>\n",
              "      <td>0.333333</td>\n",
              "      <td>0.00</td>\n",
              "      <td>0.00</td>\n",
              "      <td>0</td>\n",
              "      <td>0</td>\n",
              "      <td>Southpaw</td>\n",
              "      <td>Southpaw</td>\n",
              "      <td>0.609929</td>\n",
              "      <td>0.338843</td>\n",
              "      <td>0.000000</td>\n",
              "      <td>0.000000</td>\n",
              "      <td>12.70</td>\n",
              "      <td>12.70</td>\n",
              "      <td>28</td>\n",
              "      <td>26</td>\n",
              "    </tr>\n",
              "    <tr>\n",
              "      <th>300</th>\n",
              "      <td>2020-09-19</td>\n",
              "      <td>Kevin Holland</td>\n",
              "      <td>Darren Stewart</td>\n",
              "      <td>1</td>\n",
              "      <td>0.573643</td>\n",
              "      <td>0.518182</td>\n",
              "      <td>0.00</td>\n",
              "      <td>0.37</td>\n",
              "      <td>0</td>\n",
              "      <td>0</td>\n",
              "      <td>Orthodox</td>\n",
              "      <td>Orthodox</td>\n",
              "      <td>0.730942</td>\n",
              "      <td>0.610063</td>\n",
              "      <td>0.000000</td>\n",
              "      <td>0.375000</td>\n",
              "      <td>7.62</td>\n",
              "      <td>17.78</td>\n",
              "      <td>28</td>\n",
              "      <td>30</td>\n",
              "    </tr>\n",
              "    <tr>\n",
              "      <th>232</th>\n",
              "      <td>2020-10-31</td>\n",
              "      <td>Kevin Holland</td>\n",
              "      <td>Charlie Ontiveros</td>\n",
              "      <td>1</td>\n",
              "      <td>0.916667</td>\n",
              "      <td>1.000000</td>\n",
              "      <td>1.00</td>\n",
              "      <td>0.00</td>\n",
              "      <td>0</td>\n",
              "      <td>0</td>\n",
              "      <td>Switch</td>\n",
              "      <td>Switch</td>\n",
              "      <td>0.970588</td>\n",
              "      <td>1.000000</td>\n",
              "      <td>1.000000</td>\n",
              "      <td>0.000000</td>\n",
              "      <td>2.54</td>\n",
              "      <td>7.62</td>\n",
              "      <td>28</td>\n",
              "      <td>29</td>\n",
              "    </tr>\n",
              "    <tr>\n",
              "      <th>173</th>\n",
              "      <td>2020-12-12</td>\n",
              "      <td>Kevin Holland</td>\n",
              "      <td>Jacare Souza</td>\n",
              "      <td>1</td>\n",
              "      <td>0.833333</td>\n",
              "      <td>1.000000</td>\n",
              "      <td>0.00</td>\n",
              "      <td>0.66</td>\n",
              "      <td>0</td>\n",
              "      <td>0</td>\n",
              "      <td>Orthodox</td>\n",
              "      <td>Orthodox</td>\n",
              "      <td>0.875000</td>\n",
              "      <td>1.000000</td>\n",
              "      <td>0.000000</td>\n",
              "      <td>0.666667</td>\n",
              "      <td>5.08</td>\n",
              "      <td>22.86</td>\n",
              "      <td>28</td>\n",
              "      <td>41</td>\n",
              "    </tr>\n",
              "    <tr>\n",
              "      <th>46</th>\n",
              "      <td>2021-03-20</td>\n",
              "      <td>Derek Brunson</td>\n",
              "      <td>Kevin Holland</td>\n",
              "      <td>1</td>\n",
              "      <td>0.462366</td>\n",
              "      <td>0.486486</td>\n",
              "      <td>0.50</td>\n",
              "      <td>1.00</td>\n",
              "      <td>1</td>\n",
              "      <td>0</td>\n",
              "      <td>Orthodox</td>\n",
              "      <td>Orthodox</td>\n",
              "      <td>0.699690</td>\n",
              "      <td>0.805085</td>\n",
              "      <td>0.500000</td>\n",
              "      <td>1.000000</td>\n",
              "      <td>-5.08</td>\n",
              "      <td>-10.16</td>\n",
              "      <td>37</td>\n",
              "      <td>28</td>\n",
              "    </tr>\n",
              "    <tr>\n",
              "      <th>23</th>\n",
              "      <td>2021-04-10</td>\n",
              "      <td>Marvin Vettori</td>\n",
              "      <td>Kevin Holland</td>\n",
              "      <td>1</td>\n",
              "      <td>0.375000</td>\n",
              "      <td>0.359223</td>\n",
              "      <td>0.64</td>\n",
              "      <td>0.00</td>\n",
              "      <td>1</td>\n",
              "      <td>0</td>\n",
              "      <td>Orthodox</td>\n",
              "      <td>Orthodox</td>\n",
              "      <td>0.608000</td>\n",
              "      <td>0.644860</td>\n",
              "      <td>0.647059</td>\n",
              "      <td>0.000000</td>\n",
              "      <td>-7.62</td>\n",
              "      <td>-17.78</td>\n",
              "      <td>28</td>\n",
              "      <td>28</td>\n",
              "    </tr>\n",
              "  </tbody>\n",
              "</table>\n",
              "</div>"
            ],
            "text/plain": [
              "           date        red_fighter  ... red_age  blue_age\n",
              "1297 2018-08-04      Thiago Santos  ...      35        26\n",
              "1181 2018-11-24      Kevin Holland  ...      26        33\n",
              "994  2019-03-30      Kevin Holland  ...      26        31\n",
              "879  2019-06-22      Kevin Holland  ...      27        30\n",
              "696  2019-10-18      Brendan Allen  ...      24        27\n",
              "484  2020-05-16  Anthony Hernandez  ...      27        28\n",
              "362  2020-08-08      Kevin Holland  ...      28        26\n",
              "300  2020-09-19      Kevin Holland  ...      28        30\n",
              "232  2020-10-31      Kevin Holland  ...      28        29\n",
              "173  2020-12-12      Kevin Holland  ...      28        41\n",
              "46   2021-03-20      Derek Brunson  ...      37        28\n",
              "23   2021-04-10     Marvin Vettori  ...      28        28\n",
              "\n",
              "[12 rows x 20 columns]"
            ]
          },
          "metadata": {
            "tags": []
          },
          "execution_count": 28
        }
      ]
    },
    {
      "cell_type": "code",
      "metadata": {
        "colab": {
          "base_uri": "https://localhost:8080/"
        },
        "id": "Cjv6FnaD3IHw",
        "outputId": "ee01ecd0-8fa4-4847-ef68-6ee5ea3b35a7"
      },
      "source": [
        "Holland_key_columns.index[0]"
      ],
      "execution_count": null,
      "outputs": [
        {
          "output_type": "execute_result",
          "data": {
            "text/plain": [
              "1297"
            ]
          },
          "metadata": {
            "tags": []
          },
          "execution_count": 38
        }
      ]
    },
    {
      "cell_type": "code",
      "metadata": {
        "colab": {
          "base_uri": "https://localhost:8080/",
          "height": 35
        },
        "id": "8j8W_d2h3o02",
        "outputId": "508e6dff-e1bc-4029-df99-dd9955572afa"
      },
      "source": [
        "Holland_key_columns.loc[1297,'red_fighter']"
      ],
      "execution_count": null,
      "outputs": [
        {
          "output_type": "execute_result",
          "data": {
            "application/vnd.google.colaboratory.intrinsic+json": {
              "type": "string"
            },
            "text/plain": [
              "'Thiago Santos'"
            ]
          },
          "metadata": {
            "tags": []
          },
          "execution_count": 46
        }
      ]
    },
    {
      "cell_type": "code",
      "metadata": {
        "colab": {
          "base_uri": "https://localhost:8080/"
        },
        "id": "b6U95gbr44p4",
        "outputId": "533ed528-2e64-4a02-dc74-fda413214e32"
      },
      "source": [
        "print('Date', \"                    \",'Fighter',\"     \", \"Sig Strike Percent\")\n",
        "print('-----------------------------------')\n",
        "for i in Holland_key_columns.index:\n",
        "  if 'Kevin Holland' in Holland_key_columns.loc[i,'red_fighter']:\n",
        "    print(Holland_key_columns.loc[i,'date'],\"  \",Holland_key_columns.loc[i,'red_fighter'],\"  \",Holland_key_columns.loc[i,'red_sig_strike_percent'])\n",
        "  if 'Kevin Holland' in Holland_key_columns.loc[i,'blue_fighter']:\n",
        "    print(Holland_key_columns.loc[i,'date'],\"  \",Holland_key_columns.loc[i,'blue_fighter'],\"  \",Holland_key_columns.loc[i,'blue_sig_strike_percent'])"
      ],
      "execution_count": null,
      "outputs": [
        {
          "output_type": "stream",
          "text": [
            "Date                      Fighter       Sig Strike Percent\n",
            "-----------------------------------\n",
            "2018-08-04 00:00:00    Kevin Holland    0.5636363636363636\n",
            "2018-11-24 00:00:00    Kevin Holland    0.6577540106951871\n",
            "2019-03-30 00:00:00    Kevin Holland    0.627906976744186\n",
            "2019-06-22 00:00:00    Kevin Holland    0.49572649572649574\n",
            "2019-10-18 00:00:00    Kevin Holland    0.5789473684210527\n",
            "2020-05-16 00:00:00    Kevin Holland    0.7777777777777778\n",
            "2020-08-08 00:00:00    Kevin Holland    0.5895522388059702\n",
            "2020-09-19 00:00:00    Kevin Holland    0.5736434108527132\n",
            "2020-10-31 00:00:00    Kevin Holland    0.9166666666666666\n",
            "2020-12-12 00:00:00    Kevin Holland    0.8333333333333334\n",
            "2021-03-20 00:00:00    Kevin Holland    0.4864864864864865\n",
            "2021-04-10 00:00:00    Kevin Holland    0.3592233009708738\n"
          ],
          "name": "stdout"
        }
      ]
    },
    {
      "cell_type": "code",
      "metadata": {
        "id": "ozNwOXTi7HjB"
      },
      "source": [
        "sig_strikes = []\n",
        "for i in Holland_key_columns.index:\n",
        "  if 'Kevin Holland' in Holland_key_columns.loc[i,'red_fighter']:\n",
        "    sig_strikes.append(Holland_key_columns.loc[i,'red_sig_strike_percent'])\n",
        "  if 'Kevin Holland' in Holland_key_columns.loc[i,'blue_fighter']:\n",
        "    sig_strikes.append(Holland_key_columns.loc[i,'blue_sig_strike_percent'])"
      ],
      "execution_count": null,
      "outputs": []
    },
    {
      "cell_type": "code",
      "metadata": {
        "id": "ScM445zF7ZUW"
      },
      "source": [
        "df = pd.DataFrame(sig_strikes, columns=['Sig_strike_percent'])"
      ],
      "execution_count": null,
      "outputs": []
    },
    {
      "cell_type": "code",
      "metadata": {
        "id": "QkJC7e-57fsF"
      },
      "source": [
        "df = pd.DataFrame(sig_strikes, columns=['Sig_strike_percent'])\n",
        "#df['sig_strike_minus_one'] = df['Sig_strike_percent'].shift(1)\n",
        "#df = df.dropna()"
      ],
      "execution_count": null,
      "outputs": []
    },
    {
      "cell_type": "code",
      "metadata": {
        "colab": {
          "base_uri": "https://localhost:8080/",
          "height": 421
        },
        "id": "TpM95Tbm-ne6",
        "outputId": "71bb87ec-5f18-40e7-8ad7-126cabf0e9da"
      },
      "source": [
        "df \n",
        "# row 0 here is the stats from fight 1, so average going into fight 1 is NA, \n",
        "# then average going into fight 2 is the stats from fight 1, \n",
        "# then average going into fight 3 is mean of stats from fight 1 and fight 2. \n"
      ],
      "execution_count": null,
      "outputs": [
        {
          "output_type": "execute_result",
          "data": {
            "text/html": [
              "<div>\n",
              "<style scoped>\n",
              "    .dataframe tbody tr th:only-of-type {\n",
              "        vertical-align: middle;\n",
              "    }\n",
              "\n",
              "    .dataframe tbody tr th {\n",
              "        vertical-align: top;\n",
              "    }\n",
              "\n",
              "    .dataframe thead th {\n",
              "        text-align: right;\n",
              "    }\n",
              "</style>\n",
              "<table border=\"1\" class=\"dataframe\">\n",
              "  <thead>\n",
              "    <tr style=\"text-align: right;\">\n",
              "      <th></th>\n",
              "      <th>Sig_strike_percent</th>\n",
              "    </tr>\n",
              "  </thead>\n",
              "  <tbody>\n",
              "    <tr>\n",
              "      <th>0</th>\n",
              "      <td>0.563636</td>\n",
              "    </tr>\n",
              "    <tr>\n",
              "      <th>1</th>\n",
              "      <td>0.657754</td>\n",
              "    </tr>\n",
              "    <tr>\n",
              "      <th>2</th>\n",
              "      <td>0.627907</td>\n",
              "    </tr>\n",
              "    <tr>\n",
              "      <th>3</th>\n",
              "      <td>0.495726</td>\n",
              "    </tr>\n",
              "    <tr>\n",
              "      <th>4</th>\n",
              "      <td>0.578947</td>\n",
              "    </tr>\n",
              "    <tr>\n",
              "      <th>5</th>\n",
              "      <td>0.777778</td>\n",
              "    </tr>\n",
              "    <tr>\n",
              "      <th>6</th>\n",
              "      <td>0.589552</td>\n",
              "    </tr>\n",
              "    <tr>\n",
              "      <th>7</th>\n",
              "      <td>0.573643</td>\n",
              "    </tr>\n",
              "    <tr>\n",
              "      <th>8</th>\n",
              "      <td>0.916667</td>\n",
              "    </tr>\n",
              "    <tr>\n",
              "      <th>9</th>\n",
              "      <td>0.833333</td>\n",
              "    </tr>\n",
              "    <tr>\n",
              "      <th>10</th>\n",
              "      <td>0.486486</td>\n",
              "    </tr>\n",
              "    <tr>\n",
              "      <th>11</th>\n",
              "      <td>0.359223</td>\n",
              "    </tr>\n",
              "  </tbody>\n",
              "</table>\n",
              "</div>"
            ],
            "text/plain": [
              "    Sig_strike_percent\n",
              "0             0.563636\n",
              "1             0.657754\n",
              "2             0.627907\n",
              "3             0.495726\n",
              "4             0.578947\n",
              "5             0.777778\n",
              "6             0.589552\n",
              "7             0.573643\n",
              "8             0.916667\n",
              "9             0.833333\n",
              "10            0.486486\n",
              "11            0.359223"
            ]
          },
          "metadata": {
            "tags": []
          },
          "execution_count": 75
        }
      ]
    },
    {
      "cell_type": "code",
      "metadata": {
        "colab": {
          "base_uri": "https://localhost:8080/",
          "height": 421
        },
        "id": "NSpQXTIWBwna",
        "outputId": "383b58f0-c33b-4748-be43-fc0d974ead5a"
      },
      "source": [
        "df.expanding(2).mean()"
      ],
      "execution_count": null,
      "outputs": [
        {
          "output_type": "execute_result",
          "data": {
            "text/html": [
              "<div>\n",
              "<style scoped>\n",
              "    .dataframe tbody tr th:only-of-type {\n",
              "        vertical-align: middle;\n",
              "    }\n",
              "\n",
              "    .dataframe tbody tr th {\n",
              "        vertical-align: top;\n",
              "    }\n",
              "\n",
              "    .dataframe thead th {\n",
              "        text-align: right;\n",
              "    }\n",
              "</style>\n",
              "<table border=\"1\" class=\"dataframe\">\n",
              "  <thead>\n",
              "    <tr style=\"text-align: right;\">\n",
              "      <th></th>\n",
              "      <th>Sig_strike_percent</th>\n",
              "    </tr>\n",
              "  </thead>\n",
              "  <tbody>\n",
              "    <tr>\n",
              "      <th>0</th>\n",
              "      <td>NaN</td>\n",
              "    </tr>\n",
              "    <tr>\n",
              "      <th>1</th>\n",
              "      <td>0.610695</td>\n",
              "    </tr>\n",
              "    <tr>\n",
              "      <th>2</th>\n",
              "      <td>0.616432</td>\n",
              "    </tr>\n",
              "    <tr>\n",
              "      <th>3</th>\n",
              "      <td>0.586256</td>\n",
              "    </tr>\n",
              "    <tr>\n",
              "      <th>4</th>\n",
              "      <td>0.584794</td>\n",
              "    </tr>\n",
              "    <tr>\n",
              "      <th>5</th>\n",
              "      <td>0.616958</td>\n",
              "    </tr>\n",
              "    <tr>\n",
              "      <th>6</th>\n",
              "      <td>0.613043</td>\n",
              "    </tr>\n",
              "    <tr>\n",
              "      <th>7</th>\n",
              "      <td>0.608118</td>\n",
              "    </tr>\n",
              "    <tr>\n",
              "      <th>8</th>\n",
              "      <td>0.642401</td>\n",
              "    </tr>\n",
              "    <tr>\n",
              "      <th>9</th>\n",
              "      <td>0.661494</td>\n",
              "    </tr>\n",
              "    <tr>\n",
              "      <th>10</th>\n",
              "      <td>0.645585</td>\n",
              "    </tr>\n",
              "    <tr>\n",
              "      <th>11</th>\n",
              "      <td>0.621721</td>\n",
              "    </tr>\n",
              "  </tbody>\n",
              "</table>\n",
              "</div>"
            ],
            "text/plain": [
              "    Sig_strike_percent\n",
              "0                  NaN\n",
              "1             0.610695\n",
              "2             0.616432\n",
              "3             0.586256\n",
              "4             0.584794\n",
              "5             0.616958\n",
              "6             0.613043\n",
              "7             0.608118\n",
              "8             0.642401\n",
              "9             0.661494\n",
              "10            0.645585\n",
              "11            0.621721"
            ]
          },
          "metadata": {
            "tags": []
          },
          "execution_count": 80
        }
      ]
    },
    {
      "cell_type": "code",
      "metadata": {
        "id": "rhNIBdgK_PAz"
      },
      "source": [
        "df['Averages'] = df['Sig_strike_percent'].expanding(2).mean().shift(1)"
      ],
      "execution_count": null,
      "outputs": []
    },
    {
      "cell_type": "code",
      "metadata": {
        "id": "yCzQTYfaB7-w"
      },
      "source": [
        "df.loc[1,'Averages'] = df.loc[0,'Sig_strike_percent']"
      ],
      "execution_count": null,
      "outputs": []
    },
    {
      "cell_type": "code",
      "metadata": {
        "colab": {
          "base_uri": "https://localhost:8080/",
          "height": 421
        },
        "id": "9kzMN2haCHPP",
        "outputId": "925508af-5bcd-42a7-a0d9-53b4a99340fe"
      },
      "source": [
        "df \n",
        "# Now we can see that we are trying to fill that NA value using a linear regression. \n",
        "# Where y = Average going into fight t-1 and x = average going into fight t. \n",
        "# so for example for the third fight here (t = 3) we have y = the average going into fight 2 (0.56) and x = average going into fight 3 (0.61)"
      ],
      "execution_count": null,
      "outputs": [
        {
          "output_type": "execute_result",
          "data": {
            "text/html": [
              "<div>\n",
              "<style scoped>\n",
              "    .dataframe tbody tr th:only-of-type {\n",
              "        vertical-align: middle;\n",
              "    }\n",
              "\n",
              "    .dataframe tbody tr th {\n",
              "        vertical-align: top;\n",
              "    }\n",
              "\n",
              "    .dataframe thead th {\n",
              "        text-align: right;\n",
              "    }\n",
              "</style>\n",
              "<table border=\"1\" class=\"dataframe\">\n",
              "  <thead>\n",
              "    <tr style=\"text-align: right;\">\n",
              "      <th></th>\n",
              "      <th>Sig_strike_percent</th>\n",
              "      <th>Averages</th>\n",
              "    </tr>\n",
              "  </thead>\n",
              "  <tbody>\n",
              "    <tr>\n",
              "      <th>0</th>\n",
              "      <td>0.563636</td>\n",
              "      <td>NaN</td>\n",
              "    </tr>\n",
              "    <tr>\n",
              "      <th>1</th>\n",
              "      <td>0.657754</td>\n",
              "      <td>0.563636</td>\n",
              "    </tr>\n",
              "    <tr>\n",
              "      <th>2</th>\n",
              "      <td>0.627907</td>\n",
              "      <td>0.610695</td>\n",
              "    </tr>\n",
              "    <tr>\n",
              "      <th>3</th>\n",
              "      <td>0.495726</td>\n",
              "      <td>0.616432</td>\n",
              "    </tr>\n",
              "    <tr>\n",
              "      <th>4</th>\n",
              "      <td>0.578947</td>\n",
              "      <td>0.586256</td>\n",
              "    </tr>\n",
              "    <tr>\n",
              "      <th>5</th>\n",
              "      <td>0.777778</td>\n",
              "      <td>0.584794</td>\n",
              "    </tr>\n",
              "    <tr>\n",
              "      <th>6</th>\n",
              "      <td>0.589552</td>\n",
              "      <td>0.616958</td>\n",
              "    </tr>\n",
              "    <tr>\n",
              "      <th>7</th>\n",
              "      <td>0.573643</td>\n",
              "      <td>0.613043</td>\n",
              "    </tr>\n",
              "    <tr>\n",
              "      <th>8</th>\n",
              "      <td>0.916667</td>\n",
              "      <td>0.608118</td>\n",
              "    </tr>\n",
              "    <tr>\n",
              "      <th>9</th>\n",
              "      <td>0.833333</td>\n",
              "      <td>0.642401</td>\n",
              "    </tr>\n",
              "    <tr>\n",
              "      <th>10</th>\n",
              "      <td>0.486486</td>\n",
              "      <td>0.661494</td>\n",
              "    </tr>\n",
              "    <tr>\n",
              "      <th>11</th>\n",
              "      <td>0.359223</td>\n",
              "      <td>0.645585</td>\n",
              "    </tr>\n",
              "  </tbody>\n",
              "</table>\n",
              "</div>"
            ],
            "text/plain": [
              "    Sig_strike_percent  Averages\n",
              "0             0.563636       NaN\n",
              "1             0.657754  0.563636\n",
              "2             0.627907  0.610695\n",
              "3             0.495726  0.616432\n",
              "4             0.578947  0.586256\n",
              "5             0.777778  0.584794\n",
              "6             0.589552  0.616958\n",
              "7             0.573643  0.613043\n",
              "8             0.916667  0.608118\n",
              "9             0.833333  0.642401\n",
              "10            0.486486  0.661494\n",
              "11            0.359223  0.645585"
            ]
          },
          "metadata": {
            "tags": []
          },
          "execution_count": 84
        }
      ]
    },
    {
      "cell_type": "code",
      "metadata": {
        "colab": {
          "base_uri": "https://localhost:8080/",
          "height": 421
        },
        "id": "OQ0j2lyIDSZG",
        "outputId": "c7d1883e-21ec-417b-d040-b7ddad369ee6"
      },
      "source": [
        "lin_reg_df = df.copy()\n",
        "lin_reg_df = lin_reg_df.rename(columns = {'Averages': 'X_average'})\n",
        "lin_reg_df['Y_average'] = lin_reg_df['X_average'].shift(1)\n",
        "lin_reg_df\n",
        "# X_average is average going into fight t\n",
        "# Y_average is average going into fight t-1 "
      ],
      "execution_count": null,
      "outputs": [
        {
          "output_type": "execute_result",
          "data": {
            "text/html": [
              "<div>\n",
              "<style scoped>\n",
              "    .dataframe tbody tr th:only-of-type {\n",
              "        vertical-align: middle;\n",
              "    }\n",
              "\n",
              "    .dataframe tbody tr th {\n",
              "        vertical-align: top;\n",
              "    }\n",
              "\n",
              "    .dataframe thead th {\n",
              "        text-align: right;\n",
              "    }\n",
              "</style>\n",
              "<table border=\"1\" class=\"dataframe\">\n",
              "  <thead>\n",
              "    <tr style=\"text-align: right;\">\n",
              "      <th></th>\n",
              "      <th>Sig_strike_percent</th>\n",
              "      <th>X_average</th>\n",
              "      <th>Y_average</th>\n",
              "    </tr>\n",
              "  </thead>\n",
              "  <tbody>\n",
              "    <tr>\n",
              "      <th>0</th>\n",
              "      <td>0.563636</td>\n",
              "      <td>NaN</td>\n",
              "      <td>NaN</td>\n",
              "    </tr>\n",
              "    <tr>\n",
              "      <th>1</th>\n",
              "      <td>0.657754</td>\n",
              "      <td>0.563636</td>\n",
              "      <td>NaN</td>\n",
              "    </tr>\n",
              "    <tr>\n",
              "      <th>2</th>\n",
              "      <td>0.627907</td>\n",
              "      <td>0.610695</td>\n",
              "      <td>0.563636</td>\n",
              "    </tr>\n",
              "    <tr>\n",
              "      <th>3</th>\n",
              "      <td>0.495726</td>\n",
              "      <td>0.616432</td>\n",
              "      <td>0.610695</td>\n",
              "    </tr>\n",
              "    <tr>\n",
              "      <th>4</th>\n",
              "      <td>0.578947</td>\n",
              "      <td>0.586256</td>\n",
              "      <td>0.616432</td>\n",
              "    </tr>\n",
              "    <tr>\n",
              "      <th>5</th>\n",
              "      <td>0.777778</td>\n",
              "      <td>0.584794</td>\n",
              "      <td>0.586256</td>\n",
              "    </tr>\n",
              "    <tr>\n",
              "      <th>6</th>\n",
              "      <td>0.589552</td>\n",
              "      <td>0.616958</td>\n",
              "      <td>0.584794</td>\n",
              "    </tr>\n",
              "    <tr>\n",
              "      <th>7</th>\n",
              "      <td>0.573643</td>\n",
              "      <td>0.613043</td>\n",
              "      <td>0.616958</td>\n",
              "    </tr>\n",
              "    <tr>\n",
              "      <th>8</th>\n",
              "      <td>0.916667</td>\n",
              "      <td>0.608118</td>\n",
              "      <td>0.613043</td>\n",
              "    </tr>\n",
              "    <tr>\n",
              "      <th>9</th>\n",
              "      <td>0.833333</td>\n",
              "      <td>0.642401</td>\n",
              "      <td>0.608118</td>\n",
              "    </tr>\n",
              "    <tr>\n",
              "      <th>10</th>\n",
              "      <td>0.486486</td>\n",
              "      <td>0.661494</td>\n",
              "      <td>0.642401</td>\n",
              "    </tr>\n",
              "    <tr>\n",
              "      <th>11</th>\n",
              "      <td>0.359223</td>\n",
              "      <td>0.645585</td>\n",
              "      <td>0.661494</td>\n",
              "    </tr>\n",
              "  </tbody>\n",
              "</table>\n",
              "</div>"
            ],
            "text/plain": [
              "    Sig_strike_percent  X_average  Y_average\n",
              "0             0.563636        NaN        NaN\n",
              "1             0.657754   0.563636        NaN\n",
              "2             0.627907   0.610695   0.563636\n",
              "3             0.495726   0.616432   0.610695\n",
              "4             0.578947   0.586256   0.616432\n",
              "5             0.777778   0.584794   0.586256\n",
              "6             0.589552   0.616958   0.584794\n",
              "7             0.573643   0.613043   0.616958\n",
              "8             0.916667   0.608118   0.613043\n",
              "9             0.833333   0.642401   0.608118\n",
              "10            0.486486   0.661494   0.642401\n",
              "11            0.359223   0.645585   0.661494"
            ]
          },
          "metadata": {
            "tags": []
          },
          "execution_count": 106
        }
      ]
    },
    {
      "cell_type": "code",
      "metadata": {
        "colab": {
          "base_uri": "https://localhost:8080/",
          "height": 359
        },
        "id": "8KQyfnH8XG7F",
        "outputId": "a310fecd-e8b3-464b-edd9-c62fa822d74c"
      },
      "source": [
        "lin_reg_df = lin_reg_df.dropna()\n",
        "lin_reg_df \n"
      ],
      "execution_count": null,
      "outputs": [
        {
          "output_type": "execute_result",
          "data": {
            "text/html": [
              "<div>\n",
              "<style scoped>\n",
              "    .dataframe tbody tr th:only-of-type {\n",
              "        vertical-align: middle;\n",
              "    }\n",
              "\n",
              "    .dataframe tbody tr th {\n",
              "        vertical-align: top;\n",
              "    }\n",
              "\n",
              "    .dataframe thead th {\n",
              "        text-align: right;\n",
              "    }\n",
              "</style>\n",
              "<table border=\"1\" class=\"dataframe\">\n",
              "  <thead>\n",
              "    <tr style=\"text-align: right;\">\n",
              "      <th></th>\n",
              "      <th>Sig_strike_percent</th>\n",
              "      <th>X_average</th>\n",
              "      <th>Y_average</th>\n",
              "    </tr>\n",
              "  </thead>\n",
              "  <tbody>\n",
              "    <tr>\n",
              "      <th>2</th>\n",
              "      <td>0.627907</td>\n",
              "      <td>0.610695</td>\n",
              "      <td>0.563636</td>\n",
              "    </tr>\n",
              "    <tr>\n",
              "      <th>3</th>\n",
              "      <td>0.495726</td>\n",
              "      <td>0.616432</td>\n",
              "      <td>0.610695</td>\n",
              "    </tr>\n",
              "    <tr>\n",
              "      <th>4</th>\n",
              "      <td>0.578947</td>\n",
              "      <td>0.586256</td>\n",
              "      <td>0.616432</td>\n",
              "    </tr>\n",
              "    <tr>\n",
              "      <th>5</th>\n",
              "      <td>0.777778</td>\n",
              "      <td>0.584794</td>\n",
              "      <td>0.586256</td>\n",
              "    </tr>\n",
              "    <tr>\n",
              "      <th>6</th>\n",
              "      <td>0.589552</td>\n",
              "      <td>0.616958</td>\n",
              "      <td>0.584794</td>\n",
              "    </tr>\n",
              "    <tr>\n",
              "      <th>7</th>\n",
              "      <td>0.573643</td>\n",
              "      <td>0.613043</td>\n",
              "      <td>0.616958</td>\n",
              "    </tr>\n",
              "    <tr>\n",
              "      <th>8</th>\n",
              "      <td>0.916667</td>\n",
              "      <td>0.608118</td>\n",
              "      <td>0.613043</td>\n",
              "    </tr>\n",
              "    <tr>\n",
              "      <th>9</th>\n",
              "      <td>0.833333</td>\n",
              "      <td>0.642401</td>\n",
              "      <td>0.608118</td>\n",
              "    </tr>\n",
              "    <tr>\n",
              "      <th>10</th>\n",
              "      <td>0.486486</td>\n",
              "      <td>0.661494</td>\n",
              "      <td>0.642401</td>\n",
              "    </tr>\n",
              "    <tr>\n",
              "      <th>11</th>\n",
              "      <td>0.359223</td>\n",
              "      <td>0.645585</td>\n",
              "      <td>0.661494</td>\n",
              "    </tr>\n",
              "  </tbody>\n",
              "</table>\n",
              "</div>"
            ],
            "text/plain": [
              "    Sig_strike_percent  X_average  Y_average\n",
              "2             0.627907   0.610695   0.563636\n",
              "3             0.495726   0.616432   0.610695\n",
              "4             0.578947   0.586256   0.616432\n",
              "5             0.777778   0.584794   0.586256\n",
              "6             0.589552   0.616958   0.584794\n",
              "7             0.573643   0.613043   0.616958\n",
              "8             0.916667   0.608118   0.613043\n",
              "9             0.833333   0.642401   0.608118\n",
              "10            0.486486   0.661494   0.642401\n",
              "11            0.359223   0.645585   0.661494"
            ]
          },
          "metadata": {
            "tags": []
          },
          "execution_count": 107
        }
      ]
    },
    {
      "cell_type": "code",
      "metadata": {
        "id": "BXf8wEIfFnEC"
      },
      "source": [
        "from sklearn.linear_model import LinearRegression"
      ],
      "execution_count": null,
      "outputs": []
    },
    {
      "cell_type": "code",
      "metadata": {
        "id": "uFIp9inhGJH-"
      },
      "source": [
        "x, y = lin_reg_df['X_average'], lin_reg_df['Y_average']\n",
        "x = x.values.reshape(-1,1)"
      ],
      "execution_count": null,
      "outputs": []
    },
    {
      "cell_type": "code",
      "metadata": {
        "colab": {
          "base_uri": "https://localhost:8080/"
        },
        "id": "SnpWyrahGNrl",
        "outputId": "f8bdb10f-c0f5-47cf-ede6-508d1c03564d"
      },
      "source": [
        "x, y"
      ],
      "execution_count": null,
      "outputs": [
        {
          "output_type": "execute_result",
          "data": {
            "text/plain": [
              "(array([[0.61069519],\n",
              "        [0.61643245],\n",
              "        [0.58625596],\n",
              "        [0.58479424],\n",
              "        [0.61695817],\n",
              "        [0.61304303],\n",
              "        [0.60811808],\n",
              "        [0.64240126],\n",
              "        [0.66149446],\n",
              "        [0.64558465]]), 2     0.563636\n",
              " 3     0.610695\n",
              " 4     0.616432\n",
              " 5     0.586256\n",
              " 6     0.584794\n",
              " 7     0.616958\n",
              " 8     0.613043\n",
              " 9     0.608118\n",
              " 10    0.642401\n",
              " 11    0.661494\n",
              " Name: Y_average, dtype: float64)"
            ]
          },
          "metadata": {
            "tags": []
          },
          "execution_count": 108
        }
      ]
    },
    {
      "cell_type": "code",
      "metadata": {
        "colab": {
          "base_uri": "https://localhost:8080/"
        },
        "id": "hfsBJnKqGDn6",
        "outputId": "5a5cb0bd-8e4d-4dc3-a33f-c2ec12ded97e"
      },
      "source": [
        "lin_reg = LinearRegression()\n",
        "lin_reg.fit(x,y)"
      ],
      "execution_count": null,
      "outputs": [
        {
          "output_type": "execute_result",
          "data": {
            "text/plain": [
              "LinearRegression(copy_X=True, fit_intercept=True, n_jobs=None, normalize=False)"
            ]
          },
          "metadata": {
            "tags": []
          },
          "execution_count": 100
        }
      ]
    },
    {
      "cell_type": "code",
      "metadata": {
        "id": "zdCm1lG8Htp3"
      },
      "source": [
        "prediction = np.array(0.563636).reshape(1,-1)"
      ],
      "execution_count": null,
      "outputs": []
    },
    {
      "cell_type": "code",
      "metadata": {
        "colab": {
          "base_uri": "https://localhost:8080/"
        },
        "id": "s1i686KSGDk0",
        "outputId": "cf0665bc-c8fd-44a7-bbe6-e02a8e754253"
      },
      "source": [
        "lin_reg.predict(prediction)"
      ],
      "execution_count": null,
      "outputs": [
        {
          "output_type": "execute_result",
          "data": {
            "text/plain": [
              "array([0.57399667])"
            ]
          },
          "metadata": {
            "tags": []
          },
          "execution_count": 105
        }
      ]
    },
    {
      "cell_type": "code",
      "metadata": {
        "id": "NXWcpmtgGDiT"
      },
      "source": [
        ""
      ],
      "execution_count": null,
      "outputs": []
    },
    {
      "cell_type": "code",
      "metadata": {
        "id": "1CGHz9NE2FbJ"
      },
      "source": [
        "fight_t = \n",
        "\n",
        "fight_t_minus_one = "
      ],
      "execution_count": null,
      "outputs": []
    },
    {
      "cell_type": "markdown",
      "metadata": {
        "id": "sVhdMET81Zxt"
      },
      "source": [
        "* fit a regression for each stat against the stat before the previous fight\n",
        "\n",
        "* By that do you mean the dependent variable is statistic A's average going into fight t-1 and the independent variable is statistic A's average going into fight t, where for each row I'd have to match fights t-1 and t by fighter, but it'd still just be two variables overall? \n",
        "\n",
        "* Exactly! you could do it the other way round and have t against t-1 and then rearrange but either way is fine. \n",
        "\n",
        "* The assumptions mostly only affect the variance so I would check that there aren't any trends in the residuals and that the model is a reasonable fit to the data (plot the predictions against the observed values and add a line of equality slope 1 intercept 0 - the dream is having the points as close to the line of equality as possible) \n",
        "\n",
        "\n",
        "* Exclude fighters from these linear regressions who only have 1 fight \n"
      ]
    },
    {
      "cell_type": "code",
      "metadata": {
        "id": "aB7hftPifUNU"
      },
      "source": [
        "Holland_key_columns.info()"
      ],
      "execution_count": null,
      "outputs": []
    },
    {
      "cell_type": "code",
      "metadata": {
        "id": "l9FS3rUsWMBZ"
      },
      "source": [
        ""
      ],
      "execution_count": null,
      "outputs": []
    },
    {
      "cell_type": "code",
      "metadata": {
        "id": "hyKt-ACfWL7Q"
      },
      "source": [
        ""
      ],
      "execution_count": null,
      "outputs": []
    },
    {
      "cell_type": "markdown",
      "metadata": {
        "id": "NsLDbFnLjAh_"
      },
      "source": [
        "#Next steps "
      ]
    },
    {
      "cell_type": "markdown",
      "metadata": {
        "id": "Imp7yAlbjEAl"
      },
      "source": [
        "Within the future events page we have a number of potentially useful variables: \n",
        "\n",
        "* avg fight time, height, weight, reach, stance, strikes landed per minutestrike accuracy, strikes absorbed p/m, defence (?)\n",
        "\n",
        "*  average takedowns per 15 minutes, takedown accuracy (%), takedown defence, submission average per 15 mins. \n",
        "\n",
        "In the historical data we have the numbers for many of these for each fight. So the task is now to convert these to match the information we would get from looking at the future events data. \n",
        "\n",
        "** Challenges ** \n",
        "\n",
        "How do we construct these so they match the fighters stats * at the time of their current fight*. By this I mean, for say takedown accuracy, how do we figure out what their takedown accuracy was when they fought each particular fight? "
      ]
    },
    {
      "cell_type": "code",
      "metadata": {
        "id": "ZVqqGaM-jC_a"
      },
      "source": [
        ""
      ],
      "execution_count": null,
      "outputs": []
    },
    {
      "cell_type": "code",
      "metadata": {
        "id": "WVivUQvyjC9C"
      },
      "source": [
        ""
      ],
      "execution_count": null,
      "outputs": []
    },
    {
      "cell_type": "code",
      "metadata": {
        "id": "Fvxrjo0ejC7K"
      },
      "source": [
        ""
      ],
      "execution_count": null,
      "outputs": []
    },
    {
      "cell_type": "code",
      "metadata": {
        "id": "pmaElw1JjC45"
      },
      "source": [
        ""
      ],
      "execution_count": null,
      "outputs": []
    }
  ]
}