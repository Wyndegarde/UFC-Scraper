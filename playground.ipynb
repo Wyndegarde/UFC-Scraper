{
 "cells": [
  {
   "cell_type": "code",
   "execution_count": 1,
   "metadata": {},
   "outputs": [],
   "source": [
    "import pandas as pd\n",
    "import numpy as np\n",
    "from ufc_scraper.processors import FeatureEngineeringProcessor"
   ]
  },
  {
   "cell_type": "code",
   "execution_count": 28,
   "metadata": {},
   "outputs": [],
   "source": [
    "data_path = \"./ufc_scraper/data/clean_ufc_data.csv\"\n",
    "df = pd.read_csv(data_path)"
   ]
  },
  {
   "cell_type": "code",
   "execution_count": 29,
   "metadata": {},
   "outputs": [
    {
     "data": {
      "text/plain": [
       "Index(['date', 'location', 'weight_class', 'title_bout', 'winner',\n",
       "       'red_Fighter', 'blue_Fighter', 'red_KD', 'blue_KD', 'red_Sig. str. %',\n",
       "       'blue_Sig. str. %', 'red_Td %', 'blue_Td %', 'red_Sub. att',\n",
       "       'blue_Sub. att', 'red_Rev.', 'blue_Rev.', 'red_Ctrl', 'blue_Ctrl',\n",
       "       'red_Height', 'red_Weight', 'red_Reach', 'red_STANCE', 'red_DOB',\n",
       "       'red_SLpM', 'red_Str. Acc.', 'red_SApM', 'red_Str. Def', 'red_TD Avg.',\n",
       "       'red_TD Acc.', 'red_TD Def.', 'red_Sub. Avg.', 'red_record',\n",
       "       'blue_Height', 'blue_Weight', 'blue_Reach', 'blue_STANCE', 'blue_DOB',\n",
       "       'blue_SLpM', 'blue_Str. Acc.', 'blue_SApM', 'blue_Str. Def',\n",
       "       'blue_TD Avg.', 'blue_TD Acc.', 'blue_TD Def.', 'blue_Sub. Avg.',\n",
       "       'blue_record', 'red_Sig. str._attempted', 'red_Sig. str._landed',\n",
       "       'red_Sig. str._percent', 'blue_Sig. str._attempted',\n",
       "       'blue_Sig. str._landed', 'blue_Sig. str._percent',\n",
       "       'red_Total str._attempted', 'red_Total str._landed',\n",
       "       'red_Total str._percent', 'blue_Total str._attempted',\n",
       "       'blue_Total str._landed', 'blue_Total str._percent', 'red_Td_attempted',\n",
       "       'red_Td_landed', 'red_Td_percent', 'blue_Td_attempted',\n",
       "       'blue_Td_landed', 'blue_Td_percent', 'Height_diff', 'Reach_diff',\n",
       "       'red_age', 'blue_age', 'red_sig_strike_defence_percent',\n",
       "       'blue_sig_strike_defence_percent', 'red_takedowns_defence_percent',\n",
       "       'blue_takedowns_defence_percent'],\n",
       "      dtype='object')"
      ]
     },
     "execution_count": 29,
     "metadata": {},
     "output_type": "execute_result"
    }
   ],
   "source": [
    "df.columns"
   ]
  },
  {
   "cell_type": "code",
   "execution_count": 30,
   "metadata": {},
   "outputs": [],
   "source": [
    "df.columns = df.columns.str.replace(\".\", \"\").str.replace(\" \",\"_\").str.lower()"
   ]
  },
  {
   "cell_type": "code",
   "execution_count": 31,
   "metadata": {},
   "outputs": [
    {
     "data": {
      "text/plain": [
       "Index(['date', 'location', 'weight_class', 'title_bout', 'winner',\n",
       "       'red_fighter', 'blue_fighter', 'red_kd', 'blue_kd', 'red_sig_str_%',\n",
       "       'blue_sig_str_%', 'red_td_%', 'blue_td_%', 'red_sub_att',\n",
       "       'blue_sub_att', 'red_rev', 'blue_rev', 'red_ctrl', 'blue_ctrl',\n",
       "       'red_height', 'red_weight', 'red_reach', 'red_stance', 'red_dob',\n",
       "       'red_slpm', 'red_str_acc', 'red_sapm', 'red_str_def', 'red_td_avg',\n",
       "       'red_td_acc', 'red_td_def', 'red_sub_avg', 'red_record', 'blue_height',\n",
       "       'blue_weight', 'blue_reach', 'blue_stance', 'blue_dob', 'blue_slpm',\n",
       "       'blue_str_acc', 'blue_sapm', 'blue_str_def', 'blue_td_avg',\n",
       "       'blue_td_acc', 'blue_td_def', 'blue_sub_avg', 'blue_record',\n",
       "       'red_sig_str_attempted', 'red_sig_str_landed', 'red_sig_str_percent',\n",
       "       'blue_sig_str_attempted', 'blue_sig_str_landed', 'blue_sig_str_percent',\n",
       "       'red_total_str_attempted', 'red_total_str_landed',\n",
       "       'red_total_str_percent', 'blue_total_str_attempted',\n",
       "       'blue_total_str_landed', 'blue_total_str_percent', 'red_td_attempted',\n",
       "       'red_td_landed', 'red_td_percent', 'blue_td_attempted',\n",
       "       'blue_td_landed', 'blue_td_percent', 'height_diff', 'reach_diff',\n",
       "       'red_age', 'blue_age', 'red_sig_strike_defence_percent',\n",
       "       'blue_sig_strike_defence_percent', 'red_takedowns_defence_percent',\n",
       "       'blue_takedowns_defence_percent'],\n",
       "      dtype='object')"
      ]
     },
     "execution_count": 31,
     "metadata": {},
     "output_type": "execute_result"
    }
   ],
   "source": [
    "df.columns"
   ]
  },
  {
   "cell_type": "code",
   "execution_count": 18,
   "metadata": {},
   "outputs": [
    {
     "data": {
      "text/html": [
       "<div>\n",
       "<style scoped>\n",
       "    .dataframe tbody tr th:only-of-type {\n",
       "        vertical-align: middle;\n",
       "    }\n",
       "\n",
       "    .dataframe tbody tr th {\n",
       "        vertical-align: top;\n",
       "    }\n",
       "\n",
       "    .dataframe thead th {\n",
       "        text-align: right;\n",
       "    }\n",
       "</style>\n",
       "<table border=\"1\" class=\"dataframe\">\n",
       "  <thead>\n",
       "    <tr style=\"text-align: right;\">\n",
       "      <th></th>\n",
       "      <th>date</th>\n",
       "      <th>location</th>\n",
       "      <th>weight_class</th>\n",
       "      <th>title_bout</th>\n",
       "      <th>winner</th>\n",
       "      <th>red_fighter</th>\n",
       "      <th>blue_fighter</th>\n",
       "      <th>red_kd</th>\n",
       "      <th>blue_kd</th>\n",
       "      <th>red_sig_str_%</th>\n",
       "      <th>...</th>\n",
       "      <th>blue_td_landed</th>\n",
       "      <th>blue_td_percent</th>\n",
       "      <th>height_diff</th>\n",
       "      <th>reach_diff</th>\n",
       "      <th>red_age</th>\n",
       "      <th>blue_age</th>\n",
       "      <th>red_sig_strike_defence_percent</th>\n",
       "      <th>blue_sig_strike_defence_percent</th>\n",
       "      <th>red_takedowns_defence_percent</th>\n",
       "      <th>blue_takedowns_defence_percent</th>\n",
       "    </tr>\n",
       "  </thead>\n",
       "  <tbody>\n",
       "    <tr>\n",
       "      <th>0</th>\n",
       "      <td>2023-05-20</td>\n",
       "      <td>Las Vegas, Nevada, USA</td>\n",
       "      <td>Women's Strawweight</td>\n",
       "      <td>N</td>\n",
       "      <td>W</td>\n",
       "      <td>Mackenzie Dern</td>\n",
       "      <td>Angela Hill</td>\n",
       "      <td>1</td>\n",
       "      <td>0</td>\n",
       "      <td>0.60</td>\n",
       "      <td>...</td>\n",
       "      <td>0.0</td>\n",
       "      <td>0.000000</td>\n",
       "      <td>3.0</td>\n",
       "      <td>-2.54</td>\n",
       "      <td>30</td>\n",
       "      <td>38</td>\n",
       "      <td>0.39</td>\n",
       "      <td>0.40</td>\n",
       "      <td>1.00</td>\n",
       "      <td>0.67</td>\n",
       "    </tr>\n",
       "    <tr>\n",
       "      <th>1</th>\n",
       "      <td>2023-05-20</td>\n",
       "      <td>Las Vegas, Nevada, USA</td>\n",
       "      <td>Middleweight</td>\n",
       "      <td>N</td>\n",
       "      <td>L</td>\n",
       "      <td>Edmen Shahbazyan</td>\n",
       "      <td>Anthony Hernandez</td>\n",
       "      <td>0</td>\n",
       "      <td>0</td>\n",
       "      <td>0.58</td>\n",
       "      <td>...</td>\n",
       "      <td>6.0</td>\n",
       "      <td>0.400000</td>\n",
       "      <td>5.0</td>\n",
       "      <td>0.00</td>\n",
       "      <td>25</td>\n",
       "      <td>30</td>\n",
       "      <td>0.29</td>\n",
       "      <td>0.42</td>\n",
       "      <td>0.60</td>\n",
       "      <td>0.00</td>\n",
       "    </tr>\n",
       "    <tr>\n",
       "      <th>2</th>\n",
       "      <td>2023-05-20</td>\n",
       "      <td>Las Vegas, Nevada, USA</td>\n",
       "      <td>Catch Weight</td>\n",
       "      <td>N</td>\n",
       "      <td>L</td>\n",
       "      <td>Emily Ducote</td>\n",
       "      <td>Loopy Godinez</td>\n",
       "      <td>0</td>\n",
       "      <td>0</td>\n",
       "      <td>0.41</td>\n",
       "      <td>...</td>\n",
       "      <td>1.0</td>\n",
       "      <td>0.333333</td>\n",
       "      <td>0.0</td>\n",
       "      <td>5.08</td>\n",
       "      <td>29</td>\n",
       "      <td>30</td>\n",
       "      <td>0.47</td>\n",
       "      <td>0.59</td>\n",
       "      <td>0.67</td>\n",
       "      <td>1.00</td>\n",
       "    </tr>\n",
       "    <tr>\n",
       "      <th>3</th>\n",
       "      <td>2023-05-20</td>\n",
       "      <td>Las Vegas, Nevada, USA</td>\n",
       "      <td>Welterweight</td>\n",
       "      <td>N</td>\n",
       "      <td>L</td>\n",
       "      <td>Andre Fialho</td>\n",
       "      <td>Joaquin Buckley</td>\n",
       "      <td>0</td>\n",
       "      <td>1</td>\n",
       "      <td>0.43</td>\n",
       "      <td>...</td>\n",
       "      <td>2.0</td>\n",
       "      <td>0.666667</td>\n",
       "      <td>5.0</td>\n",
       "      <td>-5.08</td>\n",
       "      <td>29</td>\n",
       "      <td>29</td>\n",
       "      <td>0.71</td>\n",
       "      <td>0.57</td>\n",
       "      <td>0.34</td>\n",
       "      <td>1.00</td>\n",
       "    </tr>\n",
       "    <tr>\n",
       "      <th>4</th>\n",
       "      <td>2023-05-20</td>\n",
       "      <td>Las Vegas, Nevada, USA</td>\n",
       "      <td>Lightweight</td>\n",
       "      <td>N</td>\n",
       "      <td>W</td>\n",
       "      <td>Diego Ferreira</td>\n",
       "      <td>Michael Johnson</td>\n",
       "      <td>1</td>\n",
       "      <td>0</td>\n",
       "      <td>0.42</td>\n",
       "      <td>...</td>\n",
       "      <td>0.0</td>\n",
       "      <td>0.000000</td>\n",
       "      <td>-3.0</td>\n",
       "      <td>2.54</td>\n",
       "      <td>38</td>\n",
       "      <td>37</td>\n",
       "      <td>0.45</td>\n",
       "      <td>0.58</td>\n",
       "      <td>1.00</td>\n",
       "      <td>1.00</td>\n",
       "    </tr>\n",
       "  </tbody>\n",
       "</table>\n",
       "<p>5 rows × 73 columns</p>\n",
       "</div>"
      ],
      "text/plain": [
       "         date                location         weight_class title_bout winner  \\\n",
       "0  2023-05-20  Las Vegas, Nevada, USA  Women's Strawweight          N      W   \n",
       "1  2023-05-20  Las Vegas, Nevada, USA         Middleweight          N      L   \n",
       "2  2023-05-20  Las Vegas, Nevada, USA         Catch Weight          N      L   \n",
       "3  2023-05-20  Las Vegas, Nevada, USA         Welterweight          N      L   \n",
       "4  2023-05-20  Las Vegas, Nevada, USA          Lightweight          N      W   \n",
       "\n",
       "        red_fighter       blue_fighter  red_kd  blue_kd  red_sig_str_%  ...  \\\n",
       "0    Mackenzie Dern        Angela Hill       1        0           0.60  ...   \n",
       "1  Edmen Shahbazyan  Anthony Hernandez       0        0           0.58  ...   \n",
       "2      Emily Ducote      Loopy Godinez       0        0           0.41  ...   \n",
       "3      Andre Fialho    Joaquin Buckley       0        1           0.43  ...   \n",
       "4    Diego Ferreira    Michael Johnson       1        0           0.42  ...   \n",
       "\n",
       "   blue_td_landed  blue_td_percent  height_diff  reach_diff  red_age  \\\n",
       "0             0.0         0.000000          3.0       -2.54       30   \n",
       "1             6.0         0.400000          5.0        0.00       25   \n",
       "2             1.0         0.333333          0.0        5.08       29   \n",
       "3             2.0         0.666667          5.0       -5.08       29   \n",
       "4             0.0         0.000000         -3.0        2.54       38   \n",
       "\n",
       "   blue_age  red_sig_strike_defence_percent blue_sig_strike_defence_percent  \\\n",
       "0        38                            0.39                            0.40   \n",
       "1        30                            0.29                            0.42   \n",
       "2        30                            0.47                            0.59   \n",
       "3        29                            0.71                            0.57   \n",
       "4        37                            0.45                            0.58   \n",
       "\n",
       "  red_takedowns_defence_percent  blue_takedowns_defence_percent  \n",
       "0                          1.00                            0.67  \n",
       "1                          0.60                            0.00  \n",
       "2                          0.67                            1.00  \n",
       "3                          0.34                            1.00  \n",
       "4                          1.00                            1.00  \n",
       "\n",
       "[5 rows x 73 columns]"
      ]
     },
     "execution_count": 18,
     "metadata": {},
     "output_type": "execute_result"
    }
   ],
   "source": [
    "df.head()"
   ]
  },
  {
   "cell_type": "code",
   "execution_count": 6,
   "metadata": {},
   "outputs": [],
   "source": [
    "fighters = np.unique(np.concatenate([df['red_Fighter'], df['blue_Fighter'] ], axis = None)) "
   ]
  },
  {
   "cell_type": "code",
   "execution_count": 8,
   "metadata": {},
   "outputs": [
    {
     "data": {
      "text/plain": [
       "1951"
      ]
     },
     "execution_count": 8,
     "metadata": {},
     "output_type": "execute_result"
    }
   ],
   "source": [
    "len(fighters)"
   ]
  },
  {
   "cell_type": "code",
   "execution_count": 9,
   "metadata": {},
   "outputs": [
    {
     "data": {
      "text/plain": [
       "Index(['date', 'location', 'weight_class', 'title_bout', 'winner',\n",
       "       'red_Fighter', 'blue_Fighter', 'red_KD', 'blue_KD', 'red_Sig. str. %',\n",
       "       'blue_Sig. str. %', 'red_Td %', 'blue_Td %', 'red_Sub. att',\n",
       "       'blue_Sub. att', 'red_Rev.', 'blue_Rev.', 'red_Ctrl', 'blue_Ctrl',\n",
       "       'red_Height', 'red_Weight', 'red_Reach', 'red_STANCE', 'red_DOB',\n",
       "       'red_SLpM', 'red_Str. Acc.', 'red_SApM', 'red_Str. Def', 'red_TD Avg.',\n",
       "       'red_TD Acc.', 'red_TD Def.', 'red_Sub. Avg.', 'red_record',\n",
       "       'blue_Height', 'blue_Weight', 'blue_Reach', 'blue_STANCE', 'blue_DOB',\n",
       "       'blue_SLpM', 'blue_Str. Acc.', 'blue_SApM', 'blue_Str. Def',\n",
       "       'blue_TD Avg.', 'blue_TD Acc.', 'blue_TD Def.', 'blue_Sub. Avg.',\n",
       "       'blue_record', 'red_Sig. str._attempted', 'red_Sig. str._landed',\n",
       "       'red_Sig. str._percent', 'blue_Sig. str._attempted',\n",
       "       'blue_Sig. str._landed', 'blue_Sig. str._percent',\n",
       "       'red_Total str._attempted', 'red_Total str._landed',\n",
       "       'red_Total str._percent', 'blue_Total str._attempted',\n",
       "       'blue_Total str._landed', 'blue_Total str._percent', 'red_Td_attempted',\n",
       "       'red_Td_landed', 'red_Td_percent', 'blue_Td_attempted',\n",
       "       'blue_Td_landed', 'blue_Td_percent', 'Height_diff', 'Reach_diff',\n",
       "       'red_age', 'blue_age', 'red_sig_strike_defence_percent',\n",
       "       'blue_sig_strike_defence_percent', 'red_takedowns_defence_percent',\n",
       "       'blue_takedowns_defence_percent'],\n",
       "      dtype='object')"
      ]
     },
     "execution_count": 9,
     "metadata": {},
     "output_type": "execute_result"
    }
   ],
   "source": [
    "df.columns"
   ]
  },
  {
   "cell_type": "code",
   "execution_count": 3,
   "metadata": {},
   "outputs": [],
   "source": [
    "feature_engineering_processor = FeatureEngineeringProcessor(data_path, allow_creation = False)"
   ]
  },
  {
   "cell_type": "code",
   "execution_count": 8,
   "metadata": {},
   "outputs": [
    {
     "data": {
      "text/plain": [
       "array(['AJ Dobson', 'AJ Fletcher', 'Aalon Cruz', 'Aaron Phillips',\n",
       "       'Aaron Riley', 'Aaron Rosa', 'Aaron Simpson', 'Aaron Wilkinson',\n",
       "       'Abdul Razak Alhassan', 'Abdul-Kerim Edilov'], dtype=object)"
      ]
     },
     "execution_count": 8,
     "metadata": {},
     "output_type": "execute_result"
    }
   ],
   "source": [
    "feature_engineering_processor.fighters[:10]"
   ]
  },
  {
   "cell_type": "code",
   "execution_count": 5,
   "metadata": {},
   "outputs": [
    {
     "data": {
      "text/plain": [
       "['red_Sig. str. %', 'blue_Sig. str. %', 'red_Td %', 'blue_Td %']"
      ]
     },
     "execution_count": 5,
     "metadata": {},
     "output_type": "execute_result"
    }
   ],
   "source": [
    "feature_engineering_processor.percent_stats"
   ]
  },
  {
   "cell_type": "code",
   "execution_count": 9,
   "metadata": {},
   "outputs": [],
   "source": [
    "red_sig = feature_engineering_processor.percent_stats[0]\n",
    "fighter_1 = feature_engineering_processor.fighters[8]"
   ]
  },
  {
   "cell_type": "code",
   "execution_count": 10,
   "metadata": {},
   "outputs": [
    {
     "data": {
      "text/plain": [
       "'Abdul Razak Alhassan'"
      ]
     },
     "execution_count": 10,
     "metadata": {},
     "output_type": "execute_result"
    }
   ],
   "source": [
    "fighter_1"
   ]
  },
  {
   "cell_type": "code",
   "execution_count": 12,
   "metadata": {},
   "outputs": [
    {
     "name": "stdout",
     "output_type": "stream",
     "text": [
      "0.44\n",
      "1.0\n",
      "0.5\n",
      "0.71\n",
      "0.43\n"
     ]
    }
   ],
   "source": [
    "for i in feature_engineering_processor.object_df.index:\n",
    "    if fighter_1 in feature_engineering_processor.object_df.loc[i, 'red_Fighter']:\n",
    "        print(feature_engineering_processor.object_df.loc[i,  red_sig])"
   ]
  },
  {
   "cell_type": "code",
   "execution_count": null,
   "metadata": {},
   "outputs": [],
   "source": []
  }
 ],
 "metadata": {
  "kernelspec": {
   "display_name": "UFC-Scraper-h_rjxq8P",
   "language": "python",
   "name": "python3"
  },
  "language_info": {
   "codemirror_mode": {
    "name": "ipython",
    "version": 3
   },
   "file_extension": ".py",
   "mimetype": "text/x-python",
   "name": "python",
   "nbconvert_exporter": "python",
   "pygments_lexer": "ipython3",
   "version": "3.10.12"
  },
  "orig_nbformat": 4
 },
 "nbformat": 4,
 "nbformat_minor": 2
}
